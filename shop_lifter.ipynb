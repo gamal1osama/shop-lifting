version https://git-lfs.github.com/spec/v1
oid sha256:f89f8a54f57605f234c954736366ebf7a1ccdb389118dedb9060db3bdfda7762
size 713598
