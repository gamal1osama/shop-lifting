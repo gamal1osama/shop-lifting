version https://git-lfs.github.com/spec/v1
oid sha256:43e004cd0cf57118c91b4c71f1832a35ac3f09971acfb68fc7163b2f97b48971
size 727481
